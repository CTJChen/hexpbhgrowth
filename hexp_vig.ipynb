{
 "cells": [
  {
   "cell_type": "code",
   "execution_count": 3,
   "id": "01d1fbaf-5132-4865-b360-ab75c0a7ba4b",
   "metadata": {},
   "outputs": [
    {
     "data": {
      "text/plain": [
       "<SkyCoord (ICRS): (ra, dec) in deg\n",
       "    (350.85416667, 58.82333333)>"
      ]
     },
     "execution_count": 3,
     "metadata": {},
     "output_type": "execute_result"
    }
   ],
   "source": [
    "cd.SkyCoord('23h23m25s+58d49m24s')"
   ]
  },
  {
   "cell_type": "code",
   "execution_count": 3,
   "id": "4da1a018-772d-4a64-b63d-83124dc77485",
   "metadata": {},
   "outputs": [],
   "source": [
    "hvig = fits.open('./share/sixte/instruments/hex-p/het/HEXP_HET_vign_sixte_v03.fits')\n",
    "lvig = fits.open('./share/sixte/instruments/hex-p/let/HEXP_LET_vign_sixte_v03.fits')"
   ]
  },
  {
   "cell_type": "code",
   "execution_count": 4,
   "id": "2be45c3d-8c9e-45a9-8888-2081340e2bfe",
   "metadata": {},
   "outputs": [
    {
     "name": "stdout",
     "output_type": "stream",
     "text": [
      "Filename: ./share/sixte/instruments/hex-p/het/HEXP_HET_vign_sixte_v03.fits\n",
      "No.    Name      Ver    Type      Cards   Dimensions   Format\n",
      "  0  PRIMARY       1 PrimaryHDU       4   ()      \n",
      "  1  VIGNETTING    1 BinTableHDU     48   1R x 5C   [5475E, 5475E, 8E, 43800E, E]   \n"
     ]
    }
   ],
   "source": [
    "hvig.info()"
   ]
  },
  {
   "cell_type": "code",
   "execution_count": 6,
   "id": "679c07af-b881-4f65-ba60-777189b9ea9e",
   "metadata": {},
   "outputs": [],
   "source": [
    "hvig = tab(hvig[1].data)"
   ]
  },
  {
   "cell_type": "code",
   "execution_count": 7,
   "id": "d60dbbae-38d6-4fa5-942e-8c60294f2a01",
   "metadata": {},
   "outputs": [],
   "source": [
    "lvig = tab(lvig[1].data)"
   ]
  },
  {
   "cell_type": "code",
   "execution_count": 16,
   "id": "cbabba1f-514f-474e-8c00-6d5cdfe11e41",
   "metadata": {},
   "outputs": [
    {
     "data": {
      "text/plain": [
       "<TableColumns names=('ENERG_LO','ENERG_HI','THETA','VIGNET','PHI')>"
      ]
     },
     "execution_count": 16,
     "metadata": {},
     "output_type": "execute_result"
    }
   ],
   "source": [
    "hvig.columns"
   ]
  },
  {
   "cell_type": "code",
   "execution_count": 20,
   "id": "b6ead51b-1d70-45bb-ab58-1f13bef0e7d8",
   "metadata": {},
   "outputs": [
    {
     "data": {
      "text/plain": [
       "array([0.        , 0.01666667, 0.03333334, 0.05      , 0.06666667,\n",
       "       0.08333334, 0.1       , 0.11666667], dtype=float32)"
      ]
     },
     "execution_count": 20,
     "metadata": {},
     "output_type": "execute_result"
    }
   ],
   "source": [
    "hvig['THETA'][0]"
   ]
  },
  {
   "cell_type": "code",
   "execution_count": 15,
   "id": "aaca97a4-3676-4f02-ba56-34088983bd63",
   "metadata": {},
   "outputs": [],
   "source": [
    "heng = hvig['ENERG_LO']"
   ]
  },
  {
   "cell_type": "code",
   "execution_count": 22,
   "id": "b6d1792d-5b7d-473f-b87e-1a5a7a2ceb9c",
   "metadata": {},
   "outputs": [],
   "source": [
    "\n",
    "from scipy.interpolate import griddata as gd\n",
    "\n",
    "def get_vig(vigtab, energy, offaxis_arcmin, obsdate='2019-12-01', diagonal=True):\n",
    "    \"\"\"A function to find the vignetting function for a given detector at a given energy\n",
    "\n",
    "    Input: \n",
    "    Mandatory:\n",
    "    detname: detector name, e.g., 'T01'\n",
    "    energy: energy array or scalar for vignetting calculations\n",
    "    offaxis_arcmin: off-axis angle in arcmin for vignetting calculations\n",
    "    Note -- energy and offaxis_arcmin should be of the same length.\n",
    "\n",
    "    Optional:\n",
    "    obsdate: see martxcfun.get_caldb_item for explanations. \n",
    "    version: version of the CALDB to be used. \n",
    "    diagonal: for energy and offaxis_arcmin arrays of length n, the default output is\n",
    "    a 1-d array with length n. Setting diagonal=False will return a n by n matrix instead.\n",
    "\n",
    "\n",
    "    Unit test: To be written\n",
    "\n",
    "    # CTC: alternative algorithm is scipy.interpolate.interp2d,\n",
    "    # which is ~40% faster but has an unavoidable RuntimeWarning \n",
    "    # replace anything under vig_emed with the following lines\n",
    "    engrid, thgrid = np.meshgrid(vig_emed, vig_theta)\n",
    "    vigfunc_2d = interp2d(engrid, thgrid, vignet, kind='linear')\n",
    "    vigvalues = vigfunc_2d(energy, offaxis_arcmin)\n",
    "    if diagonal:\n",
    "        return vigvalues.diagonal()\n",
    "    else:\n",
    "        return vigvalues\n",
    "    \"\"\"\n",
    "    vig_theta = vigtab['THETA'][0]*60\n",
    "    if len(np.shape(vigtab['VIGNET'][0])) == 2:\n",
    "        vignet = vigtab['VIGNET'][0]\n",
    "    elif len(np.shape(vigtab['VIGNET'][0])) == 3:\n",
    "        vignet = vigtab['VIGNET'][0][0]\n",
    "    vig_elo = vigtab['ENERG_LO'][0]\n",
    "    vig_ehi = vigtab['ENERG_HI'][0]\n",
    "    vig_emed = (vig_elo + vig_ehi) / 2.\n",
    "\n",
    "\n",
    "    grid_e, grid_th = np.meshgrid(energy, offaxis_arcmin)\n",
    "    points = np.transpose(\n",
    "        [np.tile(vig_emed, len(vig_theta)), \\\n",
    "         np.repeat(vig_theta, len(vig_emed))]\n",
    "    )\n",
    "    values = vignet.flatten()\n",
    "    vigvalues = gd(points, values, (grid_e, grid_th), method='linear')\n",
    "    if diagonal:\n",
    "        return vigvalues.diagonal()\n",
    "    else:\n",
    "        return vigvalues\n"
   ]
  },
  {
   "cell_type": "code",
   "execution_count": 25,
   "id": "b34eee3e-eb09-4deb-b812-ee6f2c015338",
   "metadata": {},
   "outputs": [],
   "source": [
    "vigs = get_vig(hvig, np.zeros(10)+10,np.linspace(0.,7,10))"
   ]
  },
  {
   "cell_type": "code",
   "execution_count": 38,
   "id": "d09efcb9-ec6e-4e11-bb75-ac106ca40935",
   "metadata": {},
   "outputs": [
    {
     "data": {
      "text/plain": [
       "Text(0.5, 1.0, 'LET (2keV)')"
      ]
     },
     "execution_count": 38,
     "metadata": {},
     "output_type": "execute_result"
    },
    {
     "data": {
      "image/png": "[encoded data removed]",
      "text/plain": [
       "<Figure size 864x432 with 2 Axes>"
      ]
     },
     "metadata": {
      "needs_background": "light"
     },
     "output_type": "display_data"
    }
   ],
   "source": [
    "fig = plt.figure(figsize=(12,6))\n",
    "ax = fig.add_subplot(121)\n",
    "ax.plot(np.linspace(0.,7,10), vigs)\n",
    "ax.set_xlabel('Off-axis (arcmin)')\n",
    "ax.set_ylabel('Vig.')\n",
    "ax.set_title('HET (10 keV)')\n",
    "\n",
    "ax2 = fig.add_subplot(122)\n",
    "\n",
    "ax2.plot(np.linspace(0.,7,10), vig_let)\n",
    "ax2.set_xlabel('Off-axis (arcmin)')\n",
    "ax2.set_ylabel('Vig.')\n",
    "ax2.set_title('LET (2keV)')"
   ]
  },
  {
   "cell_type": "code",
   "execution_count": 27,
   "id": "964841bc-1783-4b62-803d-95680c547b31",
   "metadata": {},
   "outputs": [],
   "source": [
    "vig_let = get_vig(lvig, np.zeros(10)+2,np.linspace(0.,7,10))"
   ]
  },
  {
   "cell_type": "code",
   "execution_count": 30,
   "id": "01355c56-cf33-4ba4-8251-24af212b5331",
   "metadata": {},
   "outputs": [
    {
     "data": {
      "text/plain": [
       "Text(0.5, 1.0, 'LET (2keV)')"
      ]
     },
     "execution_count": 30,
     "metadata": {},
     "output_type": "execute_result"
    },
    {
     "data": {
      "image/png": "[encoded data removed]",
      "text/plain": [
       "<Figure size 432x288 with 1 Axes>"
      ]
     },
     "metadata": {
      "needs_background": "light"
     },
     "output_type": "display_data"
    }
   ],
   "source": [
    "plt.plot(np.linspace(0.,7,10), vig_let)\n",
    "plt.xlabel('Off-axis (arcmin)')\n",
    "plt.ylabel('Vig.')\n",
    "plt.title('LET (2keV)')"
   ]
  },
  {
   "cell_type": "code",
   "execution_count": null,
   "id": "a7fb1607-53ea-4e74-aa3e-5dc0381cee96",
   "metadata": {},
   "outputs": [],
   "source": []
  }
 ],
 "metadata": {
  "kernelspec": {
   "display_name": "Python 3 (ipykernel)",
   "language": "python",
   "name": "python3"
  },
  "language_info": {
   "codemirror_mode": {
    "name": "ipython",
    "version": 3
   },
   "file_extension": ".py",
   "mimetype": "text/x-python",
   "name": "python",
   "nbconvert_exporter": "python",
   "pygments_lexer": "ipython3",
   "version": "3.10.6"
  }
 },
 "nbformat": 4,
 "nbformat_minor": 5
}
